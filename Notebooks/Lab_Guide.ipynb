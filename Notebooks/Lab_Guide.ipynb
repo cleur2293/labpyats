{
 "cells": [
  {
   "cell_type": "markdown",
   "metadata": {},
   "source": [
    "# Task 4: \tObserve pyATS capabilities, using ipyats"
   ]
  },
  {
   "cell_type": "markdown",
   "metadata": {},
   "source": [
    "We believe, it’s always faster to start learning of pyATS in interactive format, when you can try different pyATS functions. It allows to run commands and see results immediately, instead of making small changes in Python code and re-running it after every minor change.\n",
    "<br>\n",
    "pyATS has interactive way of developing tests: “interactive pyATS” shell or simply ipyats."
   ]
  },
  {
   "cell_type": "markdown",
   "metadata": {},
   "source": [
    "Let’s start our journey with ipyats, using it with pyats_testbed.yaml, created in the previous chapter."
   ]
  },
  {
   "cell_type": "markdown",
   "metadata": {},
   "source": [
    "4.1. The following code is used to import YAML testbed file:"
   ]
  },
  {
   "cell_type": "code",
   "execution_count": null,
   "metadata": {},
   "outputs": [],
   "source": [
    "from genie.conf import Genie\n",
    "\n",
    "testbed_filename = '/home/cisco/labpyats/pyats_testbed.yaml'\n",
    "testbed = Genie.init(testbed_filename)"
   ]
  },
  {
   "cell_type": "markdown",
   "metadata": {},
   "source": [
    "4.2. Check the devices included in the lab’s testbed:"
   ]
  },
  {
   "cell_type": "code",
   "execution_count": null,
   "metadata": {},
   "outputs": [],
   "source": [
    "testbed.devices"
   ]
  },
  {
   "cell_type": "markdown",
   "metadata": {},
   "source": [
    "4.3. Create variables (Python objects) to easily call devices (nx – '**nx-osv-1**' device, asa -'**asav-1**' device):"
   ]
  },
  {
   "cell_type": "code",
   "execution_count": null,
   "metadata": {},
   "outputs": [],
   "source": [
    "nx = testbed.devices['nx-osv-1']\n",
    "asa = testbed.devices['asav-1']"
   ]
  },
  {
   "cell_type": "markdown",
   "metadata": {},
   "source": [
    "4.4. Instruct ipyATS to connect to devices:"
   ]
  },
  {
   "cell_type": "code",
   "execution_count": null,
   "metadata": {},
   "outputs": [],
   "source": [
    "nx.connect()\n",
    "asa.connect()"
   ]
  },
  {
   "cell_type": "markdown",
   "metadata": {},
   "source": [
    "4.5. Let’s prepare ourselves for our first test and collect ***show inventory*** command output from the devices."
   ]
  },
  {
   "cell_type": "code",
   "execution_count": null,
   "metadata": {
    "scrolled": true
   },
   "outputs": [],
   "source": [
    "nx.execute('show inventory')   \n",
    "asa.execute('show inventory')"
   ]
  },
  {
   "cell_type": "markdown",
   "metadata": {},
   "source": [
    "4.6. Verify the collected information in the output of each command.\n",
    "Pay attention to the output of both execute methods to be returned as plain text (**string** type in Python):"
   ]
  },
  {
   "cell_type": "markdown",
   "metadata": {},
   "source": [
    "![title](img/task4_pic.png)"
   ]
  },
  {
   "cell_type": "markdown",
   "metadata": {},
   "source": [
    "# Task 5:  Collect show commands from the network devices"
   ]
  },
  {
   "cell_type": "markdown",
   "metadata": {},
   "source": [
    "5.1 Let's check parts of the code before running the final script. At the beginning, we would get familiar with the structure of **testbed.devices** object."
   ]
  },
  {
   "cell_type": "code",
   "execution_count": null,
   "metadata": {
    "scrolled": true
   },
   "outputs": [],
   "source": [
    "from genie.conf import Genie\n",
    "\n",
    "testbed_filename = '/home/cisco/labpyats/pyats_testbed.yaml'\n",
    "testbed = Genie.init(testbed_filename)"
   ]
  },
  {
   "cell_type": "markdown",
   "metadata": {},
   "source": [
    "Check the output for the devices in the topology:"
   ]
  },
  {
   "cell_type": "code",
   "execution_count": null,
   "metadata": {
    "scrolled": true
   },
   "outputs": [],
   "source": [
    "print(testbed.devices)"
   ]
  },
  {
   "cell_type": "markdown",
   "metadata": {},
   "source": [
    "Let's run the code shown below to check the output:"
   ]
  },
  {
   "cell_type": "code",
   "execution_count": null,
   "metadata": {
    "scrolled": true
   },
   "outputs": [],
   "source": [
    "for device_name, device in testbed.devices.items():\n",
    "    print('#########################')\n",
    "    print(f'#####device_name = {device_name}, device = {device}\\n#####')\n",
    "    print(f'#####device_name = {device_name}, device_object_type = {type(device)}\\n#########################')"
   ]
  },
  {
   "cell_type": "markdown",
   "metadata": {},
   "source": [
    "Study the output to understand the structure of <span style=\"background-color: #FFFF00\">**TopologyDict**</span> better.\n",
    "Output for each device is shown inside '#########################' stanzas.\n",
    "Pay attention to the parts marked yellow, PyATS knows about the device type (ASAv, CSR1000v, NX-OSv 9000) and creates an object with the different device type for it:"
   ]
  },
  {
   "cell_type": "markdown",
   "metadata": {},
   "source": [
    "5.9. Now run the script **step0_pyats_example.py**"
   ]
  },
  {
   "cell_type": "code",
   "execution_count": null,
   "metadata": {},
   "outputs": [],
   "source": [
    "%run ../step0_pyats_example.py"
   ]
  }
 ],
 "metadata": {
  "kernelspec": {
   "display_name": "Python 3",
   "language": "python",
   "name": "python3"
  },
  "language_info": {
   "codemirror_mode": {
    "name": "ipython",
    "version": 3
   },
   "file_extension": ".py",
   "mimetype": "text/x-python",
   "name": "python",
   "nbconvert_exporter": "python",
   "pygments_lexer": "ipython3",
   "version": "3.7.5"
  },
  "toc": {
   "base_numbering": 1,
   "nav_menu": {},
   "number_sections": true,
   "sideBar": true,
   "skip_h1_title": false,
   "title_cell": "Table of Contents",
   "title_sidebar": "Contents",
   "toc_cell": false,
   "toc_position": {},
   "toc_section_display": true,
   "toc_window_display": true
  }
 },
 "nbformat": 4,
 "nbformat_minor": 4
}
